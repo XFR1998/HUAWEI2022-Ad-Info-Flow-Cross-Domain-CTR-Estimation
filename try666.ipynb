{
 "cells": [
  {
   "cell_type": "code",
   "execution_count": 4,
   "metadata": {
    "collapsed": true
   },
   "outputs": [
    {
     "name": "stdout",
     "output_type": "stream",
     "text": [
      "[5, 7, 21, 15, 10, 24, 27, 45, 17, 30, 36, 50]\n",
      "heap sort result:  [5, 7, 10, 15, 17, 21, 24, 27, 30, 36, 45, 50]\n"
     ]
    }
   ],
   "source": [
    "import heapq\n",
    "array = [10, 17, 50, 7, 30, 24, 27, 45, 15, 5, 36, 21]\n",
    "heap = []\n",
    "for num in array:\n",
    "    heapq.heappush(heap, num)\n",
    "print(heap)\n",
    "# print(heapq.heappop(heap))\n",
    "heap_sort = [heapq.heappop(heap) for _ in range(len(heap))]\n",
    "print(\"heap sort result: \", heap_sort)"
   ]
  },
  {
   "cell_type": "code",
   "execution_count": 8,
   "outputs": [
    {
     "name": "stdout",
     "output_type": "stream",
     "text": [
      "[1, 4, 2, 3, 5] 原始数组\n",
      "[1, 3, 2, 4, 5] 小根堆\n",
      "[(0, 1), (-1, 3), (-2, 2), (-3, 4), (-4, 5)] 插入负数后的小根堆\n",
      "[5, 4, 2, 1, 3] 输出的大根堆\n"
     ]
    }
   ],
   "source": [
    "import heapq\n",
    "ll=[1,4,2,3,5]\n",
    "print(ll,'原始数组')\n",
    "heapq.heapify(ll)\n",
    "print(ll,'小根堆')\n",
    "# 此时若想得到大顶堆\n",
    "newl = [(-i, ll[i]) for i in range(len(ll))]\n",
    "print(newl,'插入负数后的小根堆')\n",
    "heapq.heapify(newl) #以插入的负数做小根堆，越大的数字插入的负数就越小，所以这样就相当于做了大根堆\n",
    "\n",
    "max_heap = [i[1] for i in newl]\n",
    "\n",
    "print(max_heap,'输出的大根堆')"
   ],
   "metadata": {
    "collapsed": false,
    "pycharm": {
     "name": "#%%\n"
    }
   }
  },
  {
   "cell_type": "code",
   "execution_count": 7,
   "outputs": [
    {
     "data": {
      "text/plain": "[(-4, 5), (-3, 4), (-2, 2), (0, 1), (-1, 3)]"
     },
     "execution_count": 7,
     "metadata": {},
     "output_type": "execute_result"
    }
   ],
   "source": [
    "newl\n"
   ],
   "metadata": {
    "collapsed": false,
    "pycharm": {
     "name": "#%%\n"
    }
   }
  },
  {
   "cell_type": "code",
   "execution_count": 4,
   "outputs": [],
   "source": [
    "# resnet18-5c106cde.pth\n"
   ],
   "metadata": {
    "collapsed": false,
    "pycharm": {
     "name": "#%%\n"
    }
   }
  },
  {
   "cell_type": "code",
   "execution_count": 4,
   "outputs": [],
   "source": [
    "import timm\n",
    "m = timm.create_model('mobilenetv3_large_100', pretrained=True)\n",
    "\n"
   ],
   "metadata": {
    "collapsed": false,
    "pycharm": {
     "name": "#%%\n"
    }
   }
  },
  {
   "cell_type": "code",
   "execution_count": 3,
   "outputs": [
    {
     "name": "stdout",
     "output_type": "stream",
     "text": [
      "(1, 6)\n",
      "(2, 7)\n",
      "(3, 8)\n"
     ]
    }
   ],
   "source": [
    "x = [1,2,3]\n",
    "y = [6,7,8]\n",
    "\n",
    "for i, (x, y) in enumerate(zip(x,y)):\n",
    "    print((x,y))"
   ],
   "metadata": {
    "collapsed": false,
    "pycharm": {
     "name": "#%%\n"
    }
   }
  },
  {
   "cell_type": "code",
   "execution_count": 3,
   "outputs": [
    {
     "ename": "TypeError",
     "evalue": "__init__() takes from 1 to 2 positional arguments but 3 were given",
     "output_type": "error",
     "traceback": [
      "\u001B[1;31m---------------------------------------------------------------------------\u001B[0m",
      "\u001B[1;31mTypeError\u001B[0m                                 Traceback (most recent call last)",
      "\u001B[1;32mC:\\Users\\MACHEN~1\\AppData\\Local\\Temp/ipykernel_1168/3373980641.py\u001B[0m in \u001B[0;36m<module>\u001B[1;34m\u001B[0m\n\u001B[0;32m      1\u001B[0m \u001B[1;32mfrom\u001B[0m \u001B[0msklearn\u001B[0m\u001B[1;33m.\u001B[0m\u001B[0mmodel_selection\u001B[0m \u001B[1;32mimport\u001B[0m \u001B[0mStratifiedKFold\u001B[0m\u001B[1;33m,\u001B[0m \u001B[0mKFold\u001B[0m\u001B[1;33m\u001B[0m\u001B[1;33m\u001B[0m\u001B[0m\n\u001B[0;32m      2\u001B[0m \u001B[0my\u001B[0m \u001B[1;33m=\u001B[0m \u001B[1;33m[\u001B[0m\u001B[1;36m1\u001B[0m\u001B[1;33m,\u001B[0m\u001B[1;36m2\u001B[0m\u001B[1;33m,\u001B[0m\u001B[1;36m3\u001B[0m\u001B[1;33m,\u001B[0m\u001B[1;36m4\u001B[0m\u001B[1;33m,\u001B[0m\u001B[1;36m5\u001B[0m\u001B[1;33m,\u001B[0m\u001B[1;36m6\u001B[0m\u001B[1;33m,\u001B[0m\u001B[1;36m7\u001B[0m\u001B[1;33m,\u001B[0m\u001B[1;36m8\u001B[0m\u001B[1;33m,\u001B[0m\u001B[1;36m9\u001B[0m\u001B[1;33m,\u001B[0m\u001B[1;36m10\u001B[0m\u001B[1;33m]\u001B[0m\u001B[1;33m\u001B[0m\u001B[1;33m\u001B[0m\u001B[0m\n\u001B[1;32m----> 3\u001B[1;33m \u001B[0mkf\u001B[0m \u001B[1;33m=\u001B[0m \u001B[0mlist\u001B[0m\u001B[1;33m(\u001B[0m\u001B[0mStratifiedKFold\u001B[0m\u001B[1;33m(\u001B[0m\u001B[0my\u001B[0m\u001B[1;33m,\u001B[0m \u001B[1;36m5\u001B[0m\u001B[1;33m)\u001B[0m\u001B[1;33m)\u001B[0m\u001B[1;33m\u001B[0m\u001B[1;33m\u001B[0m\u001B[0m\n\u001B[0m\u001B[0;32m      4\u001B[0m \u001B[0mlen\u001B[0m\u001B[1;33m(\u001B[0m\u001B[0mkf\u001B[0m\u001B[1;33m)\u001B[0m\u001B[1;33m\u001B[0m\u001B[1;33m\u001B[0m\u001B[0m\n",
      "\u001B[1;31mTypeError\u001B[0m: __init__() takes from 1 to 2 positional arguments but 3 were given"
     ]
    }
   ],
   "source": [
    "\n",
    "from sklearn.model_selection import StratifiedKFold, KFold\n",
    "y = [1,2,3,4,5,6,7,8,9,10]\n",
    "kf = list(StratifiedKFold(y, 5))\n",
    "len(kf)"
   ],
   "metadata": {
    "collapsed": false,
    "pycharm": {
     "name": "#%%\n"
    }
   }
  },
  {
   "cell_type": "code",
   "execution_count": 0,
   "outputs": [],
   "source": [],
   "metadata": {
    "collapsed": false,
    "pycharm": {
     "name": "#%%\n"
    }
   }
  },
  {
   "cell_type": "code",
   "execution_count": 0,
   "outputs": [],
   "source": [],
   "metadata": {
    "collapsed": false,
    "pycharm": {
     "name": "#%%\n"
    }
   }
  },
  {
   "cell_type": "code",
   "execution_count": 0,
   "outputs": [],
   "source": [],
   "metadata": {
    "collapsed": false,
    "pycharm": {
     "name": "#%%\n"
    }
   }
  },
  {
   "cell_type": "code",
   "execution_count": 1,
   "outputs": [],
   "source": [
    "def quick_sort(nums, L, R):\n",
    "    if L >= R:\n",
    "        return\n",
    "\n",
    "    left, right = L, R\n",
    "\n",
    "    pivot = nums[left] # 选最左边为基准点\n",
    "\n",
    "    while left < right:\n",
    "        # 移动右指针\n",
    "        while left<right and nums[right]>=pivot:\n",
    "            right -= 1\n",
    "        if left < right:\n",
    "            nums[left] = nums[right] # 小的放左边\n",
    "\n",
    "        # 移动左指针\n",
    "        while left<right and nums[left]<=pivot:\n",
    "            left += 1\n",
    "        if left < right:\n",
    "            nums[right] = nums[left] # 大的放右边\n",
    "\n",
    "        if left>=right:\n",
    "            nums[left] = pivot\n",
    "\n",
    "    # pivot左边继续递归\n",
    "    quick_sort(nums, L, right-1)\n",
    "    # pivot右边继续递归\n",
    "    quick_sort(nums, right+1, R)"
   ],
   "metadata": {
    "collapsed": false,
    "pycharm": {
     "name": "#%%\n"
    }
   }
  },
  {
   "cell_type": "code",
   "execution_count": 2,
   "outputs": [
    {
     "name": "stdout",
     "output_type": "stream",
     "text": [
      "[1, 2, 3, 8, 9]\n"
     ]
    }
   ],
   "source": [
    "x = [3, 2, 1, 8, 9]\n",
    "quick_sort(x, 0, len(x)-1)\n",
    "print(x)\n",
    "\n",
    "\n",
    "\n",
    "\n"
   ],
   "metadata": {
    "collapsed": false,
    "pycharm": {
     "name": "#%%\n"
    }
   }
  },
  {
   "cell_type": "code",
   "execution_count": 0,
   "outputs": [],
   "source": [
    "\n"
   ],
   "metadata": {
    "collapsed": false,
    "pycharm": {
     "name": "#%%\n"
    }
   }
  },
  {
   "cell_type": "code",
   "execution_count": 6,
   "outputs": [],
   "source": [
    "def merge(nums, left, right, mid):\n",
    "    # 搞一个临时数组辅助判断合并\n",
    "    temp = []\n",
    "    for i in range(left, right+1):\n",
    "        temp.append(nums[i])\n",
    "\n",
    "    i = left # 左半部分的头指针\n",
    "    j = mid+1 # 右半部分的头指针\n",
    "\n",
    "    for k in range(left, right+1):\n",
    "        # 合并到只剩下右半部的剩余元素，那就直接全要\n",
    "        if i > mid:\n",
    "            nums[k] = temp[j-left]\n",
    "            j += 1\n",
    "        # 合并到只剩下右半部的剩余元素，那就直接全要\n",
    "        elif j > right:\n",
    "            nums[k] = temp[i-left]\n",
    "            i += 1\n",
    "\n",
    "        elif temp[i-left] > temp[j-left]:\n",
    "            nums[k] = temp[j-left]\n",
    "            j += 1\n",
    "\n",
    "        elif temp[i-left] <= temp[j-left]:\n",
    "            nums[k] = temp[i-left]\n",
    "            i += 1\n",
    "\n",
    "def merge_sort(nums, left, right):\n",
    "    if left >= right:\n",
    "        return\n",
    "\n",
    "    mid = int((left+right)/2)\n",
    "\n",
    "    merge_sort(nums, left, mid)\n",
    "    merge_sort(nums, mid+1, right)\n",
    "    merge(nums, left, right, mid)\n"
   ],
   "metadata": {
    "collapsed": false,
    "pycharm": {
     "name": "#%%\n"
    }
   }
  },
  {
   "cell_type": "code",
   "execution_count": 11,
   "outputs": [
    {
     "name": "stdout",
     "output_type": "stream",
     "text": [
      "[1, 2, 3, 8, 9]\n"
     ]
    }
   ],
   "source": [
    "x = [3, 2, 1, 8, 9]\n",
    "merge_sort(x, 0, len(x)-1)\n",
    "print(x)"
   ],
   "metadata": {
    "collapsed": false,
    "pycharm": {
     "name": "#%%\n"
    }
   }
  },
  {
   "cell_type": "code",
   "execution_count": 12,
   "outputs": [],
   "source": [
    "def bubble_sort(nums):\n",
    "    len_nums = len(nums)\n",
    "    # 外层每次都能将最大的移到最右边，所以只要 len_nums-2 次\n",
    "    for i in range(0, len_nums-1):\n",
    "        # 内层进行两两比较进行交换，因为外层每次都确定了一个最大元素，所以内存只需 len_nums-2-i 次\n",
    "        for j in range(0, len_nums-1-i):\n",
    "            if nums[j] > nums[j+1]:\n",
    "                nums[j], nums[j+1] = nums[j+1], nums[j]\n",
    "\n",
    "    return nums"
   ],
   "metadata": {
    "collapsed": false,
    "pycharm": {
     "name": "#%%\n"
    }
   }
  },
  {
   "cell_type": "code",
   "execution_count": 17,
   "outputs": [
    {
     "name": "stdout",
     "output_type": "stream",
     "text": [
      "[1, 2, 3, 8, 9]\n"
     ]
    }
   ],
   "source": [
    "x = [3, 2, 1, 8, 9]\n",
    "bubble_sort(x)\n",
    "print(x)"
   ],
   "metadata": {
    "collapsed": false,
    "pycharm": {
     "name": "#%%\n"
    }
   }
  },
  {
   "cell_type": "code",
   "execution_count": 0,
   "outputs": [],
   "source": [],
   "metadata": {
    "collapsed": false,
    "pycharm": {
     "name": "#%%\n"
    }
   }
  },
  {
   "cell_type": "code",
   "execution_count": 9,
   "outputs": [],
   "source": [
    "x = [1,2,3,4,5,6]"
   ],
   "metadata": {
    "collapsed": false,
    "pycharm": {
     "name": "#%%\n"
    }
   }
  },
  {
   "cell_type": "code",
   "execution_count": 10,
   "outputs": [],
   "source": [
    "x[:3] = x[:3][::-1]\n",
    "x[3:] = x[3:][::-1]"
   ],
   "metadata": {
    "collapsed": false,
    "pycharm": {
     "name": "#%%\n"
    }
   }
  },
  {
   "cell_type": "code",
   "execution_count": 11,
   "outputs": [],
   "source": [
    "x = x[::-1]\n",
    "x"
   ],
   "metadata": {
    "collapsed": false,
    "pycharm": {
     "name": "#%%\n"
    }
   }
  },
  {
   "cell_type": "code",
   "execution_count": 51,
   "outputs": [],
   "source": [
    "\n",
    "def reverse(nums, left, right):\n",
    "    while left < right:\n",
    "        nums[left], nums[right] = nums[right], nums[left]\n",
    "        left += 1\n",
    "        right -= 1\n",
    "\n",
    "\n",
    "def exchange(nums, start, mid, end):\n",
    "    # 两部分对调：如 [1,2,3,    4,5,6] 输入exchange之后为 [4,5,6,   1,2,3]\n",
    "\n",
    "    # 无论切片还是浅拷贝,都是开辟新的内存空间，所以如果直接这样还是会消耗空间，O(n)\n",
    "    # nums[start:mid] = nums[start:mid][::-1]\n",
    "    # nums[mid:end] = nums[mid:end][::-1]\n",
    "    # nums[start:end] = nums[start:end][::-1]\n",
    "    reverse(nums, start, mid-1)\n",
    "    reverse(nums, mid, end-1)\n",
    "    reverse(nums, start, end-1)\n",
    "\n",
    "def merge(nums, left, right, mid):\n",
    "\n",
    "    i, j, k = left, mid+1, right # 左边界， 中心（即右半部的头），右边界\n",
    "\n",
    "    while i<=j-1 and j<=k:\n",
    "        j_go_step = 0\n",
    "\n",
    "        while i<=j-1 and nums[i]<=nums[j]:\n",
    "            i += 1\n",
    "\n",
    "        while j<=k and nums[j]<=nums[i]:\n",
    "            j += 1\n",
    "            j_go_step += 1\n",
    "        exchange(nums, i, mid+1, j)\n",
    "\n",
    "        # 更新左边界\n",
    "        i = i + j_go_step\n",
    "        # 更新中点\n",
    "        mid = j-1\n",
    "\n",
    "def merge_sort(nums, left, right):\n",
    "    if left >= right:\n",
    "        return\n",
    "\n",
    "    mid = int((left+right)/2)\n",
    "\n",
    "    merge_sort(nums, left, mid)\n",
    "    merge_sort(nums, mid+1, right)\n",
    "    merge(nums, left, right, mid)\n"
   ],
   "metadata": {
    "collapsed": false,
    "pycharm": {
     "name": "#%%\n"
    }
   }
  },
  {
   "cell_type": "code",
   "execution_count": 52,
   "outputs": [
    {
     "name": "stdout",
     "output_type": "stream",
     "text": [
      "[-8, -2, -1, 0, 3, 6]\n"
     ]
    }
   ],
   "source": [
    "x = [3,-1,-2,0, 6,-8]\n",
    "# x = [3, 2, 1, 8, 9]\n",
    "# x = [3,-1,-2,0]\n",
    "merge_sort(x, 0, len(x)-1)\n",
    "print(x)"
   ],
   "metadata": {
    "collapsed": false,
    "pycharm": {
     "name": "#%%\n"
    }
   }
  },
  {
   "cell_type": "code",
   "execution_count": 29,
   "outputs": [
    {
     "data": {
      "text/plain": "[4, 5, 1, 2, 3, 6]"
     },
     "execution_count": 29,
     "metadata": {},
     "output_type": "execute_result"
    }
   ],
   "source": [
    "x = [1,2,3,4,5,6]\n",
    "exchange(x, 0, 3, 5)\n",
    "x"
   ],
   "metadata": {
    "collapsed": false,
    "pycharm": {
     "name": "#%%\n"
    }
   }
  },
  {
   "cell_type": "code",
   "execution_count": 36,
   "outputs": [
    {
     "data": {
      "text/plain": "[3, 2, 1, 4, 5, 6]"
     },
     "execution_count": 36,
     "metadata": {},
     "output_type": "execute_result"
    }
   ],
   "source": [],
   "metadata": {
    "collapsed": false,
    "pycharm": {
     "name": "#%%\n"
    }
   }
  },
  {
   "cell_type": "code",
   "execution_count": 44,
   "outputs": [],
   "source": [
    "def reverse(nums, left, right):\n",
    "    while left < right:\n",
    "        nums[left], nums[right] = nums[right], nums[left]\n",
    "        left += 1\n",
    "        right -= 1\n",
    "\n",
    "def exchange(nums, start, mid, end):\n",
    "    # 两部分对调：如 [1,2,3,    4,5,6] 输入exchange之后为 [4,5,6,   1,2,3]\n",
    "    # 无论切片还是浅拷贝,都是开辟新的内存空间，所以如果直接这样还是会消耗空间，O(n)\n",
    "    # nums[start:mid] = nums[start:mid][::-1]\n",
    "    # nums[mid:end] = nums[mid:end][::-1]\n",
    "    # nums[start:end] = nums[start:end][::-1]\n",
    "    reverse(nums, start, mid-1)\n",
    "    reverse(nums, mid, end-1)\n",
    "    reverse(nums, start, end-1)\n",
    "\n",
    "def merge(nums, left, right, mid):\n",
    "    i, j, k = left, mid+1, right # 左边界， 中心（即右半部的头），右边界\n",
    "\n",
    "    while i<=j-1 and j<=k:\n",
    "        j_go_step = 0\n",
    "        while i<=j-1 and nums[i]<=nums[j]:\n",
    "\n",
    "            i += 1\n",
    "\n",
    "        while j<=k and nums[j]<=nums[i]:\n",
    "            j += 1\n",
    "            j_go_step += 1\n",
    "        exchange(nums, i, mid+1, j)\n",
    "\n",
    "        # 更新左边界\n",
    "        i = i + j_go_step\n",
    "        # 更新中点\n",
    "        mid = j-1\n",
    "\n",
    "def merge_sort(nums, left, right):\n",
    "\n",
    "    nums_len = len(nums)\n",
    "    sub_len = 1\n",
    "\n",
    "    # 等于nums_len那肯定就不用合并了\n",
    "    while sub_len < nums_len:\n",
    "        for i in range(0, nums_len, sub_len*2):\n",
    "            left = i\n",
    "            if (i+sub_len*2)-1 < nums_len:\n",
    "                right = (i+sub_len*2)-1\n",
    "            else:\n",
    "                right = nums_len-1\n",
    "            # 到达最后一次合并时，有可能 nums_len < sub_len*2\n",
    "            # 这时中点就不是int((left+right)/2)了，而是nums_len//2\n",
    "            if nums_len >= sub_len*2:\n",
    "                mid = int((left+right)/2)\n",
    "            else:\n",
    "                mid = nums_len//2\n",
    "            merge(nums, left, right, mid)\n",
    "\n",
    "        sub_len *= 2\n"
   ],
   "metadata": {
    "collapsed": false,
    "pycharm": {
     "name": "#%%\n"
    }
   }
  },
  {
   "cell_type": "code",
   "execution_count": 45,
   "outputs": [
    {
     "name": "stdout",
     "output_type": "stream",
     "text": [
      "[-8, -2, -1, 0, 3, 6]\n"
     ]
    }
   ],
   "source": [
    "x = [3,-1,-2,0, 6,-8]\n",
    "# x = [3, 2, 1, 8, 9]\n",
    "merge_sort(x, 0, len(x)-1)\n",
    "print(x)"
   ],
   "metadata": {
    "collapsed": false,
    "pycharm": {
     "name": "#%%\n"
    }
   }
  },
  {
   "cell_type": "code",
   "execution_count": null,
   "outputs": [],
   "source": [],
   "metadata": {
    "collapsed": false,
    "pycharm": {
     "name": "#%%\n"
    }
   }
  },
  {
   "cell_type": "code",
   "execution_count": null,
   "outputs": [],
   "source": [],
   "metadata": {
    "collapsed": false,
    "pycharm": {
     "name": "#%%\n"
    }
   }
  },
  {
   "cell_type": "code",
   "execution_count": 1,
   "outputs": [
    {
     "data": {
      "text/plain": "[0, 2, 4, 6, 8]"
     },
     "execution_count": 1,
     "metadata": {},
     "output_type": "execute_result"
    }
   ],
   "source": [
    "[i for i in range(0,10,2)]"
   ],
   "metadata": {
    "collapsed": false,
    "pycharm": {
     "name": "#%%\n"
    }
   }
  },
  {
   "cell_type": "code",
   "execution_count": null,
   "outputs": [],
   "source": [],
   "metadata": {
    "collapsed": false,
    "pycharm": {
     "name": "#%%\n"
    }
   }
  },
  {
   "cell_type": "code",
   "execution_count": null,
   "outputs": [],
   "source": [],
   "metadata": {
    "collapsed": false,
    "pycharm": {
     "name": "#%%\n"
    }
   }
  },
  {
   "cell_type": "code",
   "execution_count": null,
   "outputs": [],
   "source": [],
   "metadata": {
    "collapsed": false,
    "pycharm": {
     "name": "#%%\n"
    }
   }
  },
  {
   "cell_type": "code",
   "execution_count": 14,
   "outputs": [],
   "source": [],
   "metadata": {
    "collapsed": false,
    "pycharm": {
     "name": "#%%\n"
    }
   }
  },
  {
   "cell_type": "code",
   "execution_count": null,
   "outputs": [],
   "source": [],
   "metadata": {
    "collapsed": false,
    "pycharm": {
     "name": "#%%\n"
    }
   }
  },
  {
   "cell_type": "code",
   "execution_count": null,
   "outputs": [],
   "source": [],
   "metadata": {
    "collapsed": false,
    "pycharm": {
     "name": "#%%\n"
    }
   }
  },
  {
   "cell_type": "code",
   "execution_count": null,
   "outputs": [],
   "source": [],
   "metadata": {
    "collapsed": false,
    "pycharm": {
     "name": "#%%\n"
    }
   }
  },
  {
   "cell_type": "code",
   "execution_count": null,
   "outputs": [],
   "source": [],
   "metadata": {
    "collapsed": false,
    "pycharm": {
     "name": "#%%\n"
    }
   }
  },
  {
   "cell_type": "code",
   "execution_count": null,
   "outputs": [],
   "source": [],
   "metadata": {
    "collapsed": false,
    "pycharm": {
     "name": "#%%\n"
    }
   }
  },
  {
   "cell_type": "code",
   "execution_count": 3,
   "outputs": [],
   "source": [
    "def insert_sort(nums):\n",
    "    len_nums = len(nums)\n",
    "\n",
    "    # 外层循环每次选一个数\n",
    "    for i in range(1, len_nums):\n",
    "        # 内层循环让该数和其前面的所有数比较，插入合适的位置\n",
    "        for j in range(i, 0, -1):\n",
    "            if nums[j] < nums[j-1]:\n",
    "                nums[j], nums[j-1] = nums[j-1], nums[j]\n"
   ],
   "metadata": {
    "collapsed": false,
    "pycharm": {
     "name": "#%%\n"
    }
   }
  },
  {
   "cell_type": "code",
   "execution_count": 4,
   "outputs": [
    {
     "name": "stdout",
     "output_type": "stream",
     "text": [
      "[1, 2, 3, 8, 9]\n"
     ]
    }
   ],
   "source": [
    "x = [3, 2, 1, 8, 9]\n",
    "insert_sort(x)\n",
    "print(x)"
   ],
   "metadata": {
    "collapsed": false,
    "pycharm": {
     "name": "#%%\n"
    }
   }
  },
  {
   "cell_type": "code",
   "execution_count": 0,
   "outputs": [],
   "source": [],
   "metadata": {
    "collapsed": false,
    "pycharm": {
     "name": "#%%\n"
    }
   }
  },
  {
   "cell_type": "code",
   "execution_count": 1,
   "outputs": [
    {
     "data": {
      "text/plain": "[10, 9, 8, 7, 6, 5, 4, 3, 2, 1]"
     },
     "execution_count": 1,
     "metadata": {},
     "output_type": "execute_result"
    }
   ],
   "source": [
    "[i for i in range(10, 0, -1)]"
   ],
   "metadata": {
    "collapsed": false,
    "pycharm": {
     "name": "#%%\n"
    }
   }
  },
  {
   "cell_type": "code",
   "execution_count": 0,
   "outputs": [],
   "source": [],
   "metadata": {
    "collapsed": false,
    "pycharm": {
     "name": "#%%\n"
    }
   }
  },
  {
   "cell_type": "code",
   "execution_count": 28,
   "outputs": [],
   "source": [
    "class ListNode:\n",
    "    def __init__(self, val=0, next=None):\n",
    "        self.val = val\n",
    "        self.next = next\n"
   ],
   "metadata": {
    "collapsed": false,
    "pycharm": {
     "name": "#%%\n"
    }
   }
  },
  {
   "cell_type": "code",
   "execution_count": 29,
   "outputs": [],
   "source": [
    "n1 = ListNode(val=1)\n",
    "n2 = ListNode(val=2)\n"
   ],
   "metadata": {
    "collapsed": false,
    "pycharm": {
     "name": "#%%\n"
    }
   }
  },
  {
   "cell_type": "code",
   "execution_count": 31,
   "outputs": [
    {
     "ename": "TypeError",
     "evalue": "'<' not supported between instances of 'ListNode' and 'ListNode'",
     "output_type": "error",
     "traceback": [
      "\u001B[1;31m---------------------------------------------------------------------------\u001B[0m",
      "\u001B[1;31mTypeError\u001B[0m                                 Traceback (most recent call last)",
      "\u001B[1;32mC:\\Users\\MACHEN~1\\AppData\\Local\\Temp/ipykernel_18940/97896256.py\u001B[0m in \u001B[0;36m<module>\u001B[1;34m\u001B[0m\n\u001B[1;32m----> 1\u001B[1;33m \u001B[0mn1\u001B[0m\u001B[1;33m<\u001B[0m\u001B[0mn2\u001B[0m\u001B[1;33m\u001B[0m\u001B[1;33m\u001B[0m\u001B[0m\n\u001B[0m\u001B[0;32m      2\u001B[0m \u001B[1;33m\u001B[0m\u001B[0m\n",
      "\u001B[1;31mTypeError\u001B[0m: '<' not supported between instances of 'ListNode' and 'ListNode'"
     ]
    }
   ],
   "source": [
    "n1<n2"
   ],
   "metadata": {
    "collapsed": false,
    "pycharm": {
     "name": "#%%\n"
    }
   }
  },
  {
   "cell_type": "code",
   "execution_count": 12,
   "outputs": [],
   "source": [
    "ListNode.__lt__ = lambda a,b: a.val<b.val\n"
   ],
   "metadata": {
    "collapsed": false,
    "pycharm": {
     "name": "#%%\n"
    }
   }
  },
  {
   "cell_type": "code",
   "execution_count": 30,
   "outputs": [
    {
     "data": {
      "text/plain": "NotImplemented"
     },
     "execution_count": 30,
     "metadata": {},
     "output_type": "execute_result"
    }
   ],
   "source": [
    "n1.__lt__(n2)\n"
   ],
   "metadata": {
    "collapsed": false,
    "pycharm": {
     "name": "#%%\n"
    }
   }
  },
  {
   "cell_type": "code",
   "execution_count": 0,
   "outputs": [],
   "source": [],
   "metadata": {
    "collapsed": false,
    "pycharm": {
     "name": "#%%\n"
    }
   }
  },
  {
   "cell_type": "code",
   "execution_count": 1,
   "outputs": [],
   "source": [
    "import heapq\n",
    "from heapq import heappush, heappop\n"
   ],
   "metadata": {
    "collapsed": false,
    "pycharm": {
     "name": "#%%\n"
    }
   }
  },
  {
   "cell_type": "code",
   "execution_count": 33,
   "outputs": [],
   "source": [
    "h = []\n",
    "heappush(h, (5, n1))\n",
    "heappush(h, (7, n2))\n",
    "# heappush(h, (1, 'write spec'))\n",
    "# heappush(h, (-1, 'areate tests'))"
   ],
   "metadata": {
    "collapsed": false,
    "pycharm": {
     "name": "#%%\n"
    }
   }
  },
  {
   "cell_type": "code",
   "execution_count": 34,
   "outputs": [
    {
     "data": {
      "text/plain": "(5, <__main__.ListNode at 0x182206144c8>)"
     },
     "execution_count": 34,
     "metadata": {},
     "output_type": "execute_result"
    }
   ],
   "source": [
    "heappop(h)"
   ],
   "metadata": {
    "collapsed": false,
    "pycharm": {
     "name": "#%%\n"
    }
   }
  },
  {
   "cell_type": "code",
   "execution_count": 35,
   "outputs": [
    {
     "data": {
      "text/plain": "1"
     },
     "execution_count": 35,
     "metadata": {},
     "output_type": "execute_result"
    }
   ],
   "source": [
    "n1.val\n"
   ],
   "metadata": {
    "collapsed": false,
    "pycharm": {
     "name": "#%%\n"
    }
   }
  },
  {
   "cell_type": "code",
   "execution_count": 2,
   "outputs": [],
   "source": [
    "class ListNode:\n",
    "    def __init__(self, val=0, next=None):\n",
    "        self.val = val\n",
    "        self.next = next"
   ],
   "metadata": {
    "collapsed": false,
    "pycharm": {
     "name": "#%%\n"
    }
   }
  },
  {
   "cell_type": "code",
   "execution_count": 3,
   "outputs": [],
   "source": [
    "n1 = ListNode(val=1)\n",
    "n2 = ListNode(val=2)\n",
    "\n",
    "min_heap = []\n",
    "# 将每个链表的头结点全部丢入heap\n",
    "heapq.heappush(min_heap, (n1.val, n1))\n",
    "heapq.heappush(min_heap, (n2.val, n2))"
   ],
   "metadata": {
    "collapsed": false,
    "pycharm": {
     "name": "#%%\n"
    }
   }
  },
  {
   "cell_type": "code",
   "execution_count": null,
   "outputs": [],
   "source": [],
   "metadata": {
    "collapsed": false,
    "pycharm": {
     "name": "#%%\n"
    }
   }
  },
  {
   "cell_type": "code",
   "execution_count": null,
   "outputs": [],
   "source": [],
   "metadata": {
    "collapsed": false,
    "pycharm": {
     "name": "#%%\n"
    }
   }
  },
  {
   "cell_type": "code",
   "execution_count": null,
   "outputs": [],
   "source": [],
   "metadata": {
    "collapsed": false,
    "pycharm": {
     "name": "#%%\n"
    }
   }
  },
  {
   "cell_type": "code",
   "execution_count": 5,
   "outputs": [
    {
     "name": "stdout",
     "output_type": "stream",
     "text": [
      "6\n"
     ]
    }
   ],
   "source": [
    "# 题目描述：寻找最长的连续子序列，该子序列满足里面的所有字母均出现了偶数次。\n",
    "# 法1：异或法：时间复杂度O(N)，空间复杂度O(N)\n",
    "def lenOfLongestReqSubstr(s, N):\n",
    "\n",
    "    ind = {}\n",
    "    mask = 0\n",
    "    # 初始时ind[0]=-1，记录头位置开始的字符串，看是否满足条件\n",
    "    ind[0] = -1\n",
    "    max_len = 0\n",
    "    for i in range(N):\n",
    "\n",
    "        val = ord(s[i]) - ord('a')\n",
    "\n",
    "        # 1 << val相当于是每个字母的one-hot编码\n",
    "        # a: 0001, b: 0010, c: 0100 .....\n",
    "        # 那mask异或后，出现偶数次的就会抵消为0，\n",
    "        # 所以mask存在的话说明从ind[mask]的位置到i位置的子串是满足条件的，那就判断更新最大长度\n",
    "        mask ^= (1 << val)\n",
    "        if (mask in ind):\n",
    "            max_len = max(max_len, i-ind[mask])\n",
    "        else:\n",
    "            ind[mask] = i\n",
    "\n",
    "    return max_len\n",
    "\n",
    "\n",
    "s = \"aabcbccdbd\"\n",
    "N = len(s)\n",
    "print(lenOfLongestReqSubstr(s, N))"
   ],
   "metadata": {
    "collapsed": false,
    "pycharm": {
     "name": "#%%\n"
    }
   }
  },
  {
   "cell_type": "code",
   "execution_count": null,
   "outputs": [],
   "source": [],
   "metadata": {
    "collapsed": false,
    "pycharm": {
     "name": "#%%\n"
    }
   }
  },
  {
   "cell_type": "code",
   "execution_count": null,
   "outputs": [],
   "source": [],
   "metadata": {
    "collapsed": false,
    "pycharm": {
     "name": "#%%\n"
    }
   }
  },
  {
   "cell_type": "code",
   "execution_count": null,
   "outputs": [],
   "source": [],
   "metadata": {
    "collapsed": false,
    "pycharm": {
     "name": "#%%\n"
    }
   }
  },
  {
   "cell_type": "code",
   "execution_count": null,
   "outputs": [],
   "source": [],
   "metadata": {
    "collapsed": false,
    "pycharm": {
     "name": "#%%\n"
    }
   }
  },
  {
   "cell_type": "code",
   "execution_count": null,
   "outputs": [],
   "source": [],
   "metadata": {
    "collapsed": false,
    "pycharm": {
     "name": "#%%\n"
    }
   }
  },
  {
   "cell_type": "code",
   "execution_count": null,
   "outputs": [],
   "source": [],
   "metadata": {
    "collapsed": false,
    "pycharm": {
     "name": "#%%\n"
    }
   }
  },
  {
   "cell_type": "code",
   "execution_count": null,
   "outputs": [],
   "source": [],
   "metadata": {
    "collapsed": false,
    "pycharm": {
     "name": "#%%\n"
    }
   }
  },
  {
   "cell_type": "code",
   "execution_count": null,
   "outputs": [],
   "source": [],
   "metadata": {
    "collapsed": false,
    "pycharm": {
     "name": "#%%\n"
    }
   }
  },
  {
   "cell_type": "code",
   "execution_count": null,
   "outputs": [],
   "source": [
    "\n"
   ],
   "metadata": {
    "collapsed": false,
    "pycharm": {
     "name": "#%%\n"
    }
   }
  }
 ],
 "metadata": {
  "kernelspec": {
   "display_name": "Python 3",
   "language": "python",
   "name": "python3"
  },
  "language_info": {
   "codemirror_mode": {
    "name": "ipython",
    "version": 2
   },
   "file_extension": ".py",
   "mimetype": "text/x-python",
   "name": "python",
   "nbconvert_exporter": "python",
   "pygments_lexer": "ipython2",
   "version": "2.7.6"
  }
 },
 "nbformat": 4,
 "nbformat_minor": 0
}