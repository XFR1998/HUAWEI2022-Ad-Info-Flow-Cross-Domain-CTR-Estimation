{
 "cells": [
  {
   "cell_type": "code",
   "execution_count": 1,
   "metadata": {
    "collapsed": true
   },
   "outputs": [],
   "source": [
    "# 数据探索模块使用第三方库\n",
    "import pandas as pd"
   ]
  },
  {
   "cell_type": "code",
   "execution_count": 4,
   "outputs": [],
   "source": [
    "# ----------------数据预处理-------------\n",
    "# 读取训练数据和测试数据\n",
    "# train_data_ads = pd.read_csv('../2022_3_data/train/train_data_ads.csv')\n",
    "# train_data_feeds = pd.read_csv('../2022_3_data/train/train_data_feeds.csv')\n",
    "# train_data_ads = train_data_ads.head(10)\n",
    "# train_data_feeds = train_data_feeds.head(10)\n",
    "# train_data_ads.to_csv('train_data_ads.csv', index=False)\n",
    "# train_data_feeds.to_csv('train_data_feeds.csv', index=False)\n",
    "\n",
    "# test_data_ads = pd.read_csv('../2022_3_data/test/test_data_ads.csv')\n",
    "# test_data_feeds = pd.read_csv('../2022_3_data/test/test_data_feeds.csv')\n",
    "\n",
    "train_data_ads = pd.read_csv('./train_data_ads.csv')\n",
    "train_data_feeds = pd.read_csv('./train_data_feeds.csv')"
   ],
   "metadata": {
    "collapsed": false,
    "pycharm": {
     "name": "#%%\n"
    }
   }
  },
  {
   "cell_type": "code",
   "execution_count": 5,
   "outputs": [
    {
     "name": "stdout",
     "output_type": "stream",
     "text": [
      "<class 'pandas.core.frame.DataFrame'>\n",
      "RangeIndex: 10 entries, 0 to 9\n",
      "Data columns (total 35 columns):\n",
      " #   Column                Non-Null Count  Dtype  \n",
      "---  ------                --------------  -----  \n",
      " 0   log_id                10 non-null     int64  \n",
      " 1   label                 10 non-null     int64  \n",
      " 2   user_id               10 non-null     int64  \n",
      " 3   age                   10 non-null     int64  \n",
      " 4   gender                10 non-null     int64  \n",
      " 5   residence             10 non-null     int64  \n",
      " 6   city                  10 non-null     int64  \n",
      " 7   city_rank             10 non-null     int64  \n",
      " 8   series_dev            10 non-null     int64  \n",
      " 9   series_group          10 non-null     int64  \n",
      " 10  emui_dev              10 non-null     int64  \n",
      " 11  device_name           10 non-null     int64  \n",
      " 12  device_size           10 non-null     int64  \n",
      " 13  net_type              10 non-null     int64  \n",
      " 14  task_id               10 non-null     int64  \n",
      " 15  adv_id                10 non-null     int64  \n",
      " 16  creat_type_cd         10 non-null     int64  \n",
      " 17  adv_prim_id           10 non-null     int64  \n",
      " 18  inter_type_cd         10 non-null     int64  \n",
      " 19  slot_id               10 non-null     int64  \n",
      " 20  site_id               10 non-null     int64  \n",
      " 21  spread_app_id         10 non-null     int64  \n",
      " 22  hispace_app_tags      10 non-null     int64  \n",
      " 23  app_second_class      10 non-null     int64  \n",
      " 24  app_score             10 non-null     float64\n",
      " 25  ad_click_list_v001    10 non-null     object \n",
      " 26  ad_click_list_v002    10 non-null     object \n",
      " 27  ad_click_list_v003    10 non-null     object \n",
      " 28  ad_close_list_v001    10 non-null     int64  \n",
      " 29  ad_close_list_v002    10 non-null     int64  \n",
      " 30  ad_close_list_v003    10 non-null     int64  \n",
      " 31  pt_d                  10 non-null     int64  \n",
      " 32  u_newsCatInterestsST  10 non-null     object \n",
      " 33  u_refreshTimes        10 non-null     int64  \n",
      " 34  u_feedLifeCycle       10 non-null     int64  \n",
      "dtypes: float64(1), int64(30), object(4)\n",
      "memory usage: 2.9+ KB\n",
      "<class 'pandas.core.frame.DataFrame'>\n",
      "RangeIndex: 10 entries, 0 to 9\n",
      "Data columns (total 28 columns):\n",
      " #   Column                Non-Null Count  Dtype \n",
      "---  ------                --------------  ----- \n",
      " 0   u_userId              10 non-null     int64 \n",
      " 1   u_phonePrice          10 non-null     int64 \n",
      " 2   u_browserLifeCycle    10 non-null     int64 \n",
      " 3   u_browserMode         10 non-null     int64 \n",
      " 4   u_feedLifeCycle       10 non-null     int64 \n",
      " 5   u_refreshTimes        10 non-null     int64 \n",
      " 6   u_newsCatInterests    10 non-null     object\n",
      " 7   u_newsCatDislike      10 non-null     int64 \n",
      " 8   u_newsCatInterestsST  10 non-null     object\n",
      " 9   u_click_ca2_news      10 non-null     object\n",
      " 10  i_docId               10 non-null     object\n",
      " 11  i_s_sourceId          10 non-null     object\n",
      " 12  i_regionEntity        10 non-null     int64 \n",
      " 13  i_cat                 10 non-null     int64 \n",
      " 14  i_entities            10 non-null     object\n",
      " 15  i_dislikeTimes        10 non-null     int64 \n",
      " 16  i_upTimes             10 non-null     int64 \n",
      " 17  i_dtype               10 non-null     int64 \n",
      " 18  e_ch                  10 non-null     int64 \n",
      " 19  e_m                   10 non-null     int64 \n",
      " 20  e_po                  10 non-null     int64 \n",
      " 21  e_pl                  10 non-null     int64 \n",
      " 22  e_rn                  10 non-null     int64 \n",
      " 23  e_section             10 non-null     int64 \n",
      " 24  e_et                  10 non-null     int64 \n",
      " 25  label                 10 non-null     int64 \n",
      " 26  cillabel              10 non-null     int64 \n",
      " 27  pro                   10 non-null     int64 \n",
      "dtypes: int64(22), object(6)\n",
      "memory usage: 2.3+ KB\n"
     ]
    }
   ],
   "source": [
    "train_data_ads.info()\n",
    "\n",
    "train_data_feeds.info()"
   ],
   "metadata": {
    "collapsed": false,
    "pycharm": {
     "name": "#%%\n"
    }
   }
  },
  {
   "cell_type": "code",
   "execution_count": 7,
   "outputs": [
    {
     "name": "stdout",
     "output_type": "stream",
     "text": [
      "<class 'pandas.core.frame.DataFrame'>\n",
      "RangeIndex: 976058 entries, 0 to 976057\n",
      "Data columns (total 34 columns):\n",
      " #   Column                Non-Null Count   Dtype  \n",
      "---  ------                --------------   -----  \n",
      " 0   log_id                976058 non-null  int64  \n",
      " 1   user_id               976058 non-null  int64  \n",
      " 2   age                   976058 non-null  int64  \n",
      " 3   gender                976058 non-null  int64  \n",
      " 4   residence             976058 non-null  int64  \n",
      " 5   city                  976058 non-null  int64  \n",
      " 6   city_rank             976058 non-null  int64  \n",
      " 7   series_dev            976058 non-null  int64  \n",
      " 8   series_group          976058 non-null  int64  \n",
      " 9   emui_dev              976058 non-null  int64  \n",
      " 10  device_name           976058 non-null  int64  \n",
      " 11  device_size           976058 non-null  int64  \n",
      " 12  net_type              976058 non-null  int64  \n",
      " 13  task_id               976058 non-null  int64  \n",
      " 14  adv_id                976058 non-null  int64  \n",
      " 15  creat_type_cd         976058 non-null  int64  \n",
      " 16  adv_prim_id           976058 non-null  int64  \n",
      " 17  inter_type_cd         976058 non-null  int64  \n",
      " 18  slot_id               976058 non-null  int64  \n",
      " 19  site_id               976058 non-null  int64  \n",
      " 20  spread_app_id         976058 non-null  int64  \n",
      " 21  hispace_app_tags      976058 non-null  int64  \n",
      " 22  app_second_class      976058 non-null  int64  \n",
      " 23  app_score             976058 non-null  float64\n",
      " 24  ad_click_list_v001    976058 non-null  object \n",
      " 25  ad_click_list_v002    976058 non-null  object \n",
      " 26  ad_click_list_v003    976058 non-null  object \n",
      " 27  ad_close_list_v001    976058 non-null  object \n",
      " 28  ad_close_list_v002    976058 non-null  object \n",
      " 29  ad_close_list_v003    976058 non-null  object \n",
      " 30  pt_d                  976058 non-null  int64  \n",
      " 31  u_newsCatInterestsST  976058 non-null  object \n",
      " 32  u_refreshTimes        976058 non-null  int64  \n",
      " 33  u_feedLifeCycle       976058 non-null  int64  \n",
      "dtypes: float64(1), int64(26), object(7)\n",
      "memory usage: 253.2+ MB\n",
      "<class 'pandas.core.frame.DataFrame'>\n",
      "RangeIndex: 369341 entries, 0 to 369340\n",
      "Data columns (total 28 columns):\n",
      " #   Column                Non-Null Count   Dtype \n",
      "---  ------                --------------   ----- \n",
      " 0   u_userId              369341 non-null  int64 \n",
      " 1   u_phonePrice          369341 non-null  int64 \n",
      " 2   u_browserLifeCycle    369341 non-null  int64 \n",
      " 3   u_browserMode         369341 non-null  int64 \n",
      " 4   u_feedLifeCycle       369341 non-null  int64 \n",
      " 5   u_refreshTimes        369341 non-null  int64 \n",
      " 6   u_newsCatInterests    369341 non-null  object\n",
      " 7   u_newsCatDislike      369341 non-null  object\n",
      " 8   u_newsCatInterestsST  369341 non-null  object\n",
      " 9   u_click_ca2_news      369341 non-null  object\n",
      " 10  i_docId               369341 non-null  object\n",
      " 11  i_s_sourceId          369341 non-null  object\n",
      " 12  i_regionEntity        369341 non-null  int64 \n",
      " 13  i_cat                 369341 non-null  int64 \n",
      " 14  i_entities            358585 non-null  object\n",
      " 15  i_dislikeTimes        369341 non-null  int64 \n",
      " 16  i_upTimes             369341 non-null  int64 \n",
      " 17  i_dtype               369341 non-null  int64 \n",
      " 18  e_ch                  369341 non-null  int64 \n",
      " 19  e_m                   369341 non-null  int64 \n",
      " 20  e_po                  369341 non-null  int64 \n",
      " 21  e_pl                  369341 non-null  int64 \n",
      " 22  e_rn                  369341 non-null  int64 \n",
      " 23  e_section             369341 non-null  int64 \n",
      " 24  e_et                  369341 non-null  int64 \n",
      " 25  label                 369341 non-null  int64 \n",
      " 26  cillabel              369341 non-null  int64 \n",
      " 27  pro                   369341 non-null  int64 \n",
      "dtypes: int64(21), object(7)\n",
      "memory usage: 78.9+ MB\n"
     ]
    }
   ],
   "source": [
    "# test_data_ads.info()\n",
    "#\n",
    "# test_data_feeds.info()"
   ],
   "metadata": {
    "collapsed": false,
    "pycharm": {
     "name": "#%%\n"
    }
   }
  },
  {
   "cell_type": "code",
   "execution_count": 19,
   "outputs": [
    {
     "data": {
      "text/plain": "str"
     },
     "execution_count": 19,
     "metadata": {},
     "output_type": "execute_result"
    }
   ],
   "source": [
    "x = train_data_ads['ad_click_list_v001'][0]\n",
    "type(x)"
   ],
   "metadata": {
    "collapsed": false,
    "pycharm": {
     "name": "#%%\n"
    }
   }
  },
  {
   "cell_type": "code",
   "execution_count": 62,
   "outputs": [
    {
     "data": {
      "text/plain": "0    1\n1    2\n2    1\n3    1\nName: a, dtype: int64"
     },
     "execution_count": 62,
     "metadata": {},
     "output_type": "execute_result"
    }
   ],
   "source": [
    "df = pd.DataFrame({'a':[1,2,1,1],\n",
    "                   'b':[5,6,7,8],\n",
    "                   'c':[1,1,2,1]})\n",
    "df['a'].shift(1)\n",
    "df['a']"
   ],
   "metadata": {
    "collapsed": false,
    "pycharm": {
     "name": "#%%\n"
    }
   }
  },
  {
   "cell_type": "code",
   "execution_count": 40,
   "outputs": [
    {
     "data": {
      "text/plain": "   a  b\n0  1  3\n1  2  1",
      "text/html": "<div>\n<style scoped>\n    .dataframe tbody tr th:only-of-type {\n        vertical-align: middle;\n    }\n\n    .dataframe tbody tr th {\n        vertical-align: top;\n    }\n\n    .dataframe thead th {\n        text-align: right;\n    }\n</style>\n<table border=\"1\" class=\"dataframe\">\n  <thead>\n    <tr style=\"text-align: right;\">\n      <th></th>\n      <th>a</th>\n      <th>b</th>\n    </tr>\n  </thead>\n  <tbody>\n    <tr>\n      <th>0</th>\n      <td>1</td>\n      <td>3</td>\n    </tr>\n    <tr>\n      <th>1</th>\n      <td>2</td>\n      <td>1</td>\n    </tr>\n  </tbody>\n</table>\n</div>"
     },
     "execution_count": 40,
     "metadata": {},
     "output_type": "execute_result"
    }
   ],
   "source": [
    "gp = df.groupby(['a'])\n",
    "gp['b'].nunique().reset_index()"
   ],
   "metadata": {
    "collapsed": false,
    "pycharm": {
     "name": "#%%\n"
    }
   }
  },
  {
   "cell_type": "code",
   "execution_count": 77,
   "outputs": [
    {
     "data": {
      "text/plain": "0    NaN\n1    NaN\n2    2.0\n3    NaN\nName: b, dtype: float64"
     },
     "execution_count": 77,
     "metadata": {},
     "output_type": "execute_result"
    }
   ],
   "source": [
    "gp['b'].shift(0) - gp['b'].shift(1)"
   ],
   "metadata": {
    "collapsed": false,
    "pycharm": {
     "name": "#%%\n"
    }
   }
  },
  {
   "cell_type": "code",
   "execution_count": 74,
   "outputs": [
    {
     "data": {
      "text/plain": "0    NaN\n1    NaN\n2    5.0\n3    NaN\nName: b, dtype: float64"
     },
     "execution_count": 74,
     "metadata": {},
     "output_type": "execute_result"
    }
   ],
   "source": [
    "gp['b'].shift(1)"
   ],
   "metadata": {
    "collapsed": false,
    "pycharm": {
     "name": "#%%\n"
    }
   }
  },
  {
   "cell_type": "code",
   "execution_count": 36,
   "outputs": [],
   "source": [
    "x = gp['b'].transform(lambda x: x.count())"
   ],
   "metadata": {
    "collapsed": false,
    "pycharm": {
     "name": "#%%\n"
    }
   }
  },
  {
   "cell_type": "code",
   "execution_count": 37,
   "outputs": [
    {
     "data": {
      "text/plain": "0    3\n1    1\n2    3\n3    3\nName: b, dtype: int64"
     },
     "execution_count": 37,
     "metadata": {},
     "output_type": "execute_result"
    }
   ],
   "source": [
    "x\n"
   ],
   "metadata": {
    "collapsed": false,
    "pycharm": {
     "name": "#%%\n"
    }
   }
  },
  {
   "cell_type": "code",
   "execution_count": 33,
   "outputs": [
    {
     "data": {
      "text/plain": "a\n1    3\n2    1\nName: b, dtype: int64"
     },
     "execution_count": 33,
     "metadata": {},
     "output_type": "execute_result"
    }
   ],
   "source": [
    "x = gp['b'].agg('count')\n",
    "x"
   ],
   "metadata": {
    "collapsed": false,
    "pycharm": {
     "name": "#%%\n"
    }
   }
  },
  {
   "cell_type": "code",
   "execution_count": 70,
   "outputs": [],
   "source": [
    "train_data_ads['pt_d'] = train_data_ads['pt_d'].apply(lambda x: str(x))\n",
    "train_data_ads['pt_d'] = pd.to_datetime(train_data_ads['pt_d'])\n",
    "pt_d_date = train_data_ads['pt_d']"
   ],
   "metadata": {
    "collapsed": false,
    "pycharm": {
     "name": "#%%\n"
    }
   }
  },
  {
   "cell_type": "code",
   "execution_count": 71,
   "outputs": [],
   "source": [
    "train_data_ads['pt_d_year'] = pt_d_date.dt.year\n",
    "train_data_ads['pt_d_month'] = pt_d_date.dt.month\n",
    "train_data_ads['pt_d_day'] = pt_d_date.dt.day\n",
    "train_data_ads['pt_d_weekday'] = pt_d_date.dt.weekday\n",
    "train_data_ads['pt_d_hour'] = pt_d_date.dt.hour"
   ],
   "metadata": {
    "collapsed": false,
    "pycharm": {
     "name": "#%%\n"
    }
   }
  },
  {
   "cell_type": "code",
   "execution_count": 63,
   "outputs": [
    {
     "ename": "NameError",
     "evalue": "name 'train_data_ads' is not defined",
     "output_type": "error",
     "traceback": [
      "\u001B[1;31m---------------------------------------------------------------------------\u001B[0m",
      "\u001B[1;31mNameError\u001B[0m                                 Traceback (most recent call last)",
      "\u001B[1;32mC:\\Users\\MACHEN~1\\AppData\\Local\\Temp/ipykernel_3736/1228270342.py\u001B[0m in \u001B[0;36m<module>\u001B[1;34m\u001B[0m\n\u001B[1;32m----> 1\u001B[1;33m \u001B[0mx\u001B[0m \u001B[1;33m=\u001B[0m \u001B[0mtrain_data_ads\u001B[0m\u001B[1;33m[\u001B[0m\u001B[1;34m'pt_d'\u001B[0m\u001B[1;33m]\u001B[0m\u001B[1;33m[\u001B[0m\u001B[1;36m0\u001B[0m\u001B[1;33m]\u001B[0m\u001B[1;33m\u001B[0m\u001B[1;33m\u001B[0m\u001B[0m\n\u001B[0m\u001B[0;32m      2\u001B[0m \u001B[1;33m\u001B[0m\u001B[0m\n",
      "\u001B[1;31mNameError\u001B[0m: name 'train_data_ads' is not defined"
     ]
    }
   ],
   "source": [
    "\n",
    "x = train_data_ads['pt_d'][0]"
   ],
   "metadata": {
    "collapsed": false,
    "pycharm": {
     "name": "#%%\n"
    }
   }
  },
  {
   "cell_type": "code",
   "execution_count": 13,
   "outputs": [
    {
     "data": {
      "text/plain": "Timestamp('2022-06-03 03:26:00')"
     },
     "execution_count": 13,
     "metadata": {},
     "output_type": "execute_result"
    }
   ],
   "source": [
    "pd.to_datetime(str(x))\n"
   ],
   "metadata": {
    "collapsed": false,
    "pycharm": {
     "name": "#%%\n"
    }
   }
  },
  {
   "cell_type": "code",
   "execution_count": 43,
   "outputs": [],
   "source": [
    "x = 202206030426\n",
    "y = 202211031226"
   ],
   "metadata": {
    "collapsed": false,
    "pycharm": {
     "name": "#%%\n"
    }
   }
  },
  {
   "cell_type": "code",
   "execution_count": 20,
   "outputs": [
    {
     "data": {
      "text/plain": "('2022', '06', '03', '03')"
     },
     "execution_count": 20,
     "metadata": {},
     "output_type": "execute_result"
    }
   ],
   "source": [
    "# x[:4],x[4:6],x[6:8],x[8:10]\n"
   ],
   "metadata": {
    "collapsed": false,
    "pycharm": {
     "name": "#%%\n"
    }
   }
  },
  {
   "cell_type": "code",
   "execution_count": 45,
   "outputs": [
    {
     "name": "stdout",
     "output_type": "stream",
     "text": [
      "2022\n",
      "11\n",
      "3\n",
      "12\n"
     ]
    }
   ],
   "source": [
    "print(x//100000000)\n",
    "print(x%100000000//1000000)\n",
    "print(x%1000000//10000)\n",
    "print(x%10000//100)"
   ],
   "metadata": {
    "collapsed": false,
    "pycharm": {
     "name": "#%%\n"
    }
   }
  },
  {
   "cell_type": "code",
   "execution_count": 23,
   "outputs": [
    {
     "data": {
      "text/plain": "3"
     },
     "execution_count": 23,
     "metadata": {},
     "output_type": "execute_result"
    }
   ],
   "source": [
    "import numpy as np\n",
    "np.int8('03')\n"
   ],
   "metadata": {
    "collapsed": false,
    "pycharm": {
     "name": "#%%\n"
    }
   }
  },
  {
   "cell_type": "code",
   "execution_count": 7,
   "outputs": [],
   "source": [
    "data_ads['pt_d_year'] = data_ads['pt_d'].apply(lambda x: np.int8(x//100000000))\n",
    "data_ads['pt_d_month'] = data_ads['pt_d'].apply(lambda x: np.int8(x%100000000//1000000))\n",
    "data_ads['pt_d_day'] = data_ads['pt_d'].apply(lambda x: np.int8(x%1000000//10000))\n",
    "data_ads['pt_d_hour'] = data_ads['pt_d'].apply(lambda x: np.int8(x%10000//100))\n",
    "data_ads['pt_d_weekday'] = data_ads['pt_d'].apply(lambda x: pd.to_datetime(str(x)).weekday).astype(np.int8)\n"
   ],
   "metadata": {
    "collapsed": false,
    "pycharm": {
     "name": "#%%\n"
    }
   }
  },
  {
   "cell_type": "code",
   "execution_count": 7,
   "outputs": [],
   "source": [],
   "metadata": {
    "collapsed": false,
    "pycharm": {
     "name": "#%%\n"
    }
   }
  },
  {
   "cell_type": "code",
   "execution_count": 7,
   "outputs": [],
   "source": [],
   "metadata": {
    "collapsed": false,
    "pycharm": {
     "name": "#%%\n"
    }
   }
  },
  {
   "cell_type": "code",
   "execution_count": 7,
   "outputs": [],
   "source": [],
   "metadata": {
    "collapsed": false,
    "pycharm": {
     "name": "#%%\n"
    }
   }
  },
  {
   "cell_type": "code",
   "execution_count": 56,
   "outputs": [
    {
     "data": {
      "text/plain": "2022"
     },
     "execution_count": 56,
     "metadata": {},
     "output_type": "execute_result"
    }
   ],
   "source": [
    "x = pd.to_datetime('2022-01-01')\n",
    "y = x.year\n",
    "y"
   ],
   "metadata": {
    "collapsed": false,
    "pycharm": {
     "name": "#%%\n"
    }
   }
  },
  {
   "cell_type": "code",
   "execution_count": 57,
   "outputs": [],
   "source": [
    "del x"
   ],
   "metadata": {
    "collapsed": false,
    "pycharm": {
     "name": "#%%\n"
    }
   }
  },
  {
   "cell_type": "code",
   "execution_count": 58,
   "outputs": [
    {
     "data": {
      "text/plain": "2022"
     },
     "execution_count": 58,
     "metadata": {},
     "output_type": "execute_result"
    }
   ],
   "source": [
    "y\n"
   ],
   "metadata": {
    "collapsed": false,
    "pycharm": {
     "name": "#%%\n"
    }
   }
  },
  {
   "cell_type": "code",
   "execution_count": 49,
   "outputs": [
    {
     "ename": "NameError",
     "evalue": "name 'x' is not defined",
     "output_type": "error",
     "traceback": [
      "\u001B[1;31m---------------------------------------------------------------------------\u001B[0m",
      "\u001B[1;31mNameError\u001B[0m                                 Traceback (most recent call last)",
      "\u001B[1;32mC:\\Users\\MACHEN~1\\AppData\\Local\\Temp/ipykernel_3736/1512093081.py\u001B[0m in \u001B[0;36m<module>\u001B[1;34m\u001B[0m\n\u001B[1;32m----> 1\u001B[1;33m \u001B[0mx\u001B[0m\u001B[1;33m\u001B[0m\u001B[1;33m\u001B[0m\u001B[0m\n\u001B[0m",
      "\u001B[1;31mNameError\u001B[0m: name 'x' is not defined"
     ]
    }
   ],
   "source": [],
   "metadata": {
    "collapsed": false,
    "pycharm": {
     "name": "#%%\n"
    }
   }
  },
  {
   "cell_type": "code",
   "execution_count": 7,
   "outputs": [],
   "source": [],
   "metadata": {
    "collapsed": false,
    "pycharm": {
     "name": "#%%\n"
    }
   }
  },
  {
   "cell_type": "code",
   "execution_count": 7,
   "outputs": [],
   "source": [],
   "metadata": {
    "collapsed": false,
    "pycharm": {
     "name": "#%%\n"
    }
   }
  },
  {
   "cell_type": "code",
   "execution_count": 7,
   "outputs": [],
   "source": [],
   "metadata": {
    "collapsed": false,
    "pycharm": {
     "name": "#%%\n"
    }
   }
  },
  {
   "cell_type": "code",
   "execution_count": 7,
   "outputs": [],
   "source": [],
   "metadata": {
    "collapsed": false,
    "pycharm": {
     "name": "#%%\n"
    }
   }
  },
  {
   "cell_type": "code",
   "execution_count": 7,
   "outputs": [],
   "source": [],
   "metadata": {
    "collapsed": false,
    "pycharm": {
     "name": "#%%\n"
    }
   }
  },
  {
   "cell_type": "code",
   "execution_count": 7,
   "outputs": [],
   "source": [],
   "metadata": {
    "collapsed": false,
    "pycharm": {
     "name": "#%%\n"
    }
   }
  },
  {
   "cell_type": "code",
   "execution_count": 7,
   "outputs": [],
   "source": [],
   "metadata": {
    "collapsed": false,
    "pycharm": {
     "name": "#%%\n"
    }
   }
  },
  {
   "cell_type": "code",
   "execution_count": 7,
   "outputs": [],
   "source": [],
   "metadata": {
    "collapsed": false,
    "pycharm": {
     "name": "#%%\n"
    }
   }
  },
  {
   "cell_type": "code",
   "execution_count": null,
   "outputs": [],
   "source": [
    "\n"
   ],
   "metadata": {
    "collapsed": false,
    "pycharm": {
     "name": "#%%\n"
    }
   }
  }
 ],
 "metadata": {
  "kernelspec": {
   "display_name": "Python 3",
   "language": "python",
   "name": "python3"
  },
  "language_info": {
   "codemirror_mode": {
    "name": "ipython",
    "version": 2
   },
   "file_extension": ".py",
   "mimetype": "text/x-python",
   "name": "python",
   "nbconvert_exporter": "python",
   "pygments_lexer": "ipython2",
   "version": "2.7.6"
  }
 },
 "nbformat": 4,
 "nbformat_minor": 0
}